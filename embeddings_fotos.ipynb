{
 "cells": [
  {
   "cell_type": "code",
   "execution_count": 9,
   "metadata": {},
   "outputs": [],
   "source": [
    "import cv2\n",
    "from os.path import isfile, join\n",
    "import numpy as np\n",
    "import dlib\n",
    "import glob, os\n",
    "from imutils import paths\n",
    "from sklearn.manifold import TSNE\n",
    "from IPython.display import clear_output\n",
    "import matplotlib.pyplot as plt\n",
    "%matplotlib inline"
   ]
  },
  {
   "cell_type": "code",
   "execution_count": 10,
   "metadata": {},
   "outputs": [],
   "source": [
    "face_rec_model_path='models/dlib_face_recognition_resnet_model_v1.dat'\n",
    "predictor_path = 'models/landmarks.dat'\n",
    "\n",
    "detector = dlib.get_frontal_face_detector()\n",
    "sp = dlib.shape_predictor(predictor_path)\n",
    "facerec = dlib.face_recognition_model_v1(face_rec_model_path)\n",
    "dataset = os.path.join('c:/', 'Coding', '5_FaceSVM', 'dataset')"
   ]
  },
  {
   "cell_type": "code",
   "execution_count": 21,
   "metadata": {},
   "outputs": [
    {
     "name": "stdout",
     "output_type": "stream",
     "text": [
      "natis9.jpg: 1\n",
      "88 images embedded\n"
     ]
    }
   ],
   "source": [
    "imagePaths = list(paths.list_images(dataset))\n",
    "features = []\n",
    "\n",
    "for (i, imagePath) in enumerate(imagePaths):\n",
    "    name = imagePath.split(os.path.sep)[-1]\n",
    "    image = cv2.imread(imagePath)\n",
    "    img = cv2.normalize(image, None, 20, 230, cv2.NORM_MINMAX)\n",
    "\n",
    "    # Ask the detector to find the bounding boxes of each face\n",
    "    dets = detector(img, 1)  # 0 means no upsample, 1 means 1 time upsample i.e. bigger image, more faces\n",
    "    clear_output(wait=True)\n",
    "    print(f'{name}: {format(len(dets))}', flush=True)\n",
    "\n",
    "    # Now process each face we found.\n",
    "    for k, d in enumerate(dets):\n",
    "        # print(\"Detection {}: Left: {} Top: {} Right: {} Bottom: {}\".format(\n",
    "        #    k, d.left(), d.top(), d.right(), d.bottom()))\n",
    "        \n",
    "        shape = sp(img, d) # Get the landmarks/parts for the face in box d.\n",
    "        \n",
    "        # Compute the 128D vector that describes the face in img identified by\n",
    "        # shape.  In general, if two face descriptor vectors have a Euclidean\n",
    "        # distance between them less than 0.6 then they are from the same\n",
    "        # person, otherwise they are from different people.\n",
    "        features.append(facerec.compute_face_descriptor(img, shape))\n",
    "        \n",
    "features = np.array(features)\n",
    "print(f'{i} images embedded')"
   ]
  },
  {
   "cell_type": "code",
   "execution_count": 22,
   "metadata": {},
   "outputs": [],
   "source": [
    "tsne = TSNE(n_components=2, random_state=0)\n",
    "reduced = tsne.fit_transform(features)"
   ]
  },
  {
   "cell_type": "code",
   "execution_count": 23,
   "metadata": {},
   "outputs": [
    {
     "data": {
      "image/png": "[encoded data removed]",
      "text/plain": [
       "<Figure size 432x288 with 1 Axes>"
      ]
     },
     "metadata": {
      "needs_background": "light"
     },
     "output_type": "display_data"
    }
   ],
   "source": [
    "plt.scatter(x = reduced[:,0], y=reduced[:,1])\n",
    "plt.show()"
   ]
  },
  {
   "cell_type": "code",
   "execution_count": null,
   "metadata": {},
   "outputs": [],
   "source": []
  }
 ],
 "metadata": {
  "kernelspec": {
   "display_name": "Python 3",
   "language": "python",
   "name": "python3"
  },
  "language_info": {
   "codemirror_mode": {
    "name": "ipython",
    "version": 3
   },
   "file_extension": ".py",
   "mimetype": "text/x-python",
   "name": "python",
   "nbconvert_exporter": "python",
   "pygments_lexer": "ipython3",
   "version": "3.8.5"
  }
 },
 "nbformat": 4,
 "nbformat_minor": 2
}
